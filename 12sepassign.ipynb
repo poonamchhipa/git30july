{
  "cells": [
    {
      "cell_type": "code",
      "execution_count": 1,
      "metadata": {
        "id": "TvEssO3Qo-2Q"
      },
      "outputs": [],
      "source": [
        "#12sepassignment"
      ]
    },
    {
      "cell_type": "code",
      "execution_count": 3,
      "metadata": {
        "id": "0AH9AV5NpYDP"
      },
      "outputs": [],
      "source": [
        "'''Q.1=what is list indexing in python?\n",
        "ans=it refers to the process of accessing a specific element in a list,using its position or index number'''"
      ]
    },
    {
      "cell_type": "code",
      "execution_count": 5,
      "metadata": {
        "colab": {
          "base_uri": "https://localhost:8080/"
        },
        "id": "ykfPyULIqCUH",
        "outputId": "3ddf0f7c-3dbe-4c81-b910-3d6dcb6d7f2c"
      },
      "outputs": [
        {
          "data": {
            "text/plain": [
              "2"
            ]
          },
          "execution_count": 5,
          "metadata": {},
          "output_type": "execute_result"
        }
      ],
      "source": [
        "'''Q.2=how do you access  the first element in list?'''\n",
        "li=[2,4,6,8]\n",
        "li[0]\n"
      ]
    },
    {
      "cell_type": "code",
      "execution_count": 7,
      "metadata": {
        "id": "RfJ65AzZrVp8"
      },
      "outputs": [],
      "source": [
        "'''Q.3=What is the result of my_list[2] if my_list = [10, 20, 30, 40]?\n",
        "ans=30'''\n"
      ]
    },
    {
      "cell_type": "code",
      "execution_count": 8,
      "metadata": {
        "colab": {
          "base_uri": "https://localhost:8080/"
        },
        "id": "G0L_-oc4rrm4",
        "outputId": "d0aab341-e003-4ac2-f566-4a1b633aa174"
      },
      "outputs": [
        {
          "data": {
            "text/plain": [
              "8"
            ]
          },
          "execution_count": 8,
          "metadata": {},
          "output_type": "execute_result"
        }
      ],
      "source": [
        "'''Q.4=How can you access the last element of a list?'''\n",
        "li[3]"
      ]
    },
    {
      "cell_type": "code",
      "execution_count": 9,
      "metadata": {
        "id": "KbG3e2VFr25Z"
      },
      "outputs": [],
      "source": [
        "'''Q.5=What will my_list[-1] return if my_list = [1, 2, 3, 4, 5]?\n",
        "ans=5'''"
      ]
    },
    {
      "cell_type": "code",
      "execution_count": 10,
      "metadata": {
        "id": "7e6it_ZVsCYT"
      },
      "outputs": [],
      "source": [
        "'''Q.6=How do you access a range of elements in a list?\n",
        "ans= using slicing,to slice a part of list or to get a part of list we use slicing\n",
        "syntax=> (start:end:stepsize)=>range of elements'''"
      ]
    },
    {
      "cell_type": "code",
      "execution_count": 11,
      "metadata": {
        "colab": {
          "base_uri": "https://localhost:8080/"
        },
        "id": "2KPlvillspps",
        "outputId": "4ca736ae-6e6e-41b8-e8b3-11ce4c2bd468"
      },
      "outputs": [
        {
          "data": {
            "text/plain": [
              "[20, 30, 40]"
            ]
          },
          "execution_count": 11,
          "metadata": {},
          "output_type": "execute_result"
        }
      ],
      "source": [
        "'''Q.7=What does my_list[1:4] return for my_list = [10, 20, 30, 40, 50]?'''\n",
        "my_list = [10, 20, 30, 40, 50]\n",
        "my_list[1:4]\n"
      ]
    },
    {
      "cell_type": "code",
      "execution_count": 12,
      "metadata": {
        "colab": {
          "base_uri": "https://localhost:8080/"
        },
        "id": "e5I1SjZ0s5gA",
        "outputId": "10cccc7d-f6ea-49d7-f044-23796787983f"
      },
      "outputs": [
        {
          "data": {
            "text/plain": [
              "['a', 'b', 'c']"
            ]
          },
          "execution_count": 12,
          "metadata": {},
          "output_type": "execute_result"
        }
      ],
      "source": [
        "'''Q.8=What is the result of my_list[:3] if my_list=['a','b','c','d']?'''\n",
        "my_list=['a','b','c','d']\n",
        "my_list[:3]\n",
        "\n"
      ]
    },
    {
      "cell_type": "code",
      "execution_count": 13,
      "metadata": {
        "colab": {
          "base_uri": "https://localhost:8080/"
        },
        "id": "drxC95IHtej6",
        "outputId": "dd369a08-8105-4df5-8070-de964653aa52"
      },
      "outputs": [
        {
          "data": {
            "text/plain": [
              "[30, 40]"
            ]
          },
          "execution_count": 13,
          "metadata": {},
          "output_type": "execute_result"
        }
      ],
      "source": [
        "'''Q.9=How do you get a sublist from the beginning to a specified index?\n",
        "ans= split a list using slicing'''\n",
        "li1=[10,20,30,40,50]\n",
        "li1[2:4]"
      ]
    },
    {
      "cell_type": "code",
      "execution_count": 15,
      "metadata": {
        "colab": {
          "base_uri": "https://localhost:8080/"
        },
        "id": "Dfg59lv1uHyq",
        "outputId": "7ddfd8b9-6b2a-463c-8441-93542ba81532"
      },
      "outputs": [
        {
          "data": {
            "text/plain": [
              "[3, 4, 5]"
            ]
          },
          "execution_count": 15,
          "metadata": {},
          "output_type": "execute_result"
        }
      ],
      "source": [
        "'''Q.10=What will my_list[2:] return if my_list = [1, 2, 3, 4, 5]?'''\n",
        "my_list = [1, 2, 3, 4, 5]\n",
        "my_list[2:]\n"
      ]
    },
    {
      "cell_type": "code",
      "execution_count": 26,
      "metadata": {
        "colab": {
          "base_uri": "https://localhost:8080/"
        },
        "id": "5Otqo02OuVd0",
        "outputId": "61aa0b19-e5e1-48aa-aff1-b2cdea53080f"
      },
      "outputs": [
        {
          "data": {
            "text/plain": [
              "[5, 4, 3, 2, 1]"
            ]
          },
          "execution_count": 26,
          "metadata": {},
          "output_type": "execute_result"
        }
      ],
      "source": [
        "'''Q.11=How can you reverse a list using slicing?'''\n",
        "my_list[-1:-6:-1]"
      ]
    },
    {
      "cell_type": "code",
      "execution_count": 27,
      "metadata": {
        "colab": {
          "base_uri": "https://localhost:8080/"
        },
        "id": "BoJQ8Y09uwA5",
        "outputId": "1e65af05-8c1d-411e-adce-796e0cc21080"
      },
      "outputs": [
        {
          "data": {
            "text/plain": [
              "[3, 2, 1]"
            ]
          },
          "execution_count": 27,
          "metadata": {},
          "output_type": "execute_result"
        }
      ],
      "source": [
        "'''Q.12=What does my_list[::-1] do if my_list = [1, 2, 3]?'''\n",
        "my_list = [1, 2, 3]\n",
        "my_list[::-1]\n"
      ]
    },
    {
      "cell_type": "code",
      "execution_count": 29,
      "metadata": {
        "colab": {
          "base_uri": "https://localhost:8080/"
        },
        "id": "gxiWh7fQviSX",
        "outputId": "fbb2966a-710d-4813-b8d2-0239fc377a45"
      },
      "outputs": [
        {
          "data": {
            "text/plain": [
              "[1, 3, 5, 7]"
            ]
          },
          "execution_count": 29,
          "metadata": {},
          "output_type": "execute_result"
        }
      ],
      "source": [
        "'''Q.13=How do you extract every second element from a list?'''\n",
        "list1=[1,2,3,4,5,6,7,8]\n",
        "list1[::2]"
      ]
    },
    {
      "cell_type": "code",
      "execution_count": 30,
      "metadata": {
        "colab": {
          "base_uri": "https://localhost:8080/"
        },
        "id": "D_BPXPXkvwDE",
        "outputId": "441b2249-f568-4e5f-fbda-7d53716f88d1"
      },
      "outputs": [
        {
          "data": {
            "text/plain": [
              "[10, 30, 50]"
            ]
          },
          "execution_count": 30,
          "metadata": {},
          "output_type": "execute_result"
        }
      ],
      "source": [
        "'''Q.14=What will my_list[::2] return if my_list = [10, 20, 30, 40, 50]?'''\n",
        "my_list = [10, 20, 30, 40, 50]\n",
        "my_list[::2]"
      ]
    },
    {
      "cell_type": "code",
      "execution_count": 31,
      "metadata": {
        "colab": {
          "base_uri": "https://localhost:8080/"
        },
        "id": "Vfll_CRJwHU5",
        "outputId": "f1444956-ece0-40f6-a999-dc5936f9d0cf"
      },
      "outputs": [
        {
          "data": {
            "text/plain": [
              "[50, 40]"
            ]
          },
          "execution_count": 31,
          "metadata": {},
          "output_type": "execute_result"
        }
      ],
      "source": [
        "'''Q.15=Can you slice a list with a negative step? If so, how?\n",
        "ans=yes,by using negative step size'''\n",
        "my_list[-1:-3:-1]\n"
      ]
    },
    {
      "cell_type": "code",
      "execution_count": 32,
      "metadata": {
        "colab": {
          "base_uri": "https://localhost:8080/"
        },
        "id": "AAyEl87ywdif",
        "outputId": "8e0da75f-7b1b-45c0-ca7d-47bbb87baaea"
      },
      "outputs": [
        {
          "data": {
            "text/plain": [
              "[8, 7]"
            ]
          },
          "execution_count": 32,
          "metadata": {},
          "output_type": "execute_result"
        }
      ],
      "source": [
        "'''Q.16=What is the output of my_list[3:1:-1] if my_list = [5, 6, 7, 8, 9]?'''\n",
        "my_list = [5, 6, 7, 8, 9]\n",
        "my_list[3:1:-1]\n"
      ]
    },
    {
      "cell_type": "code",
      "execution_count": 33,
      "metadata": {
        "id": "kp4d1DvEw39h"
      },
      "outputs": [],
      "source": [
        "'''Q.17=How do you handle list indexing errors, such as accessing an out-of-range index?\n",
        "ans=by using range'''"
      ]
    },
    {
      "cell_type": "code",
      "execution_count": 34,
      "metadata": {
        "id": "dKTPxiX-xp5t"
      },
      "outputs": [],
      "source": [
        "'''Q.18=What happens if you use an index greater than the length of the list?\n",
        "ans=give error'''"
      ]
    },
    {
      "cell_type": "code",
      "execution_count": 35,
      "metadata": {
        "colab": {
          "base_uri": "https://localhost:8080/"
        },
        "id": "rbbTRkpLx96k",
        "outputId": "c0d5a905-0eee-4166-e9af-5d968d00bb0f"
      },
      "outputs": [
        {
          "data": {
            "text/plain": [
              "[9, 8]"
            ]
          },
          "execution_count": 35,
          "metadata": {},
          "output_type": "execute_result"
        }
      ],
      "source": [
        "'''Q.19=How do negative indices work in Python lists?\n",
        "ans=starts from -1 where -1 is starting point and so on...'''\n",
        "my_list[-1:-3:-1]"
      ]
    },
    {
      "cell_type": "code",
      "execution_count": 37,
      "metadata": {
        "colab": {
          "base_uri": "https://localhost:8080/"
        },
        "id": "VgZnq8Wxyzj5",
        "outputId": "1134c59f-92a7-4ab4-caf1-a2c7d0c99f37"
      },
      "outputs": [
        {
          "data": {
            "text/plain": [
              "[6, 7, 8]"
            ]
          },
          "execution_count": 37,
          "metadata": {},
          "output_type": "execute_result"
        }
      ],
      "source": [
        "'''Q.20=What does my_list[-3:] return if my_list = [4, 5, 6, 7, 8]?'''\n",
        "my_list = [4, 5, 6, 7, 8]\n",
        "my_list[-3:]\n"
      ]
    },
    {
      "cell_type": "code",
      "execution_count": 38,
      "metadata": {
        "colab": {
          "base_uri": "https://localhost:8080/"
        },
        "id": "e81Aav98zD4s",
        "outputId": "a034af6f-ed06-478b-9f9a-a5037be7cd9e"
      },
      "outputs": [
        {
          "data": {
            "text/plain": [
              "[4, 5, 6, 7, 8]"
            ]
          },
          "execution_count": 38,
          "metadata": {},
          "output_type": "execute_result"
        }
      ],
      "source": [
        "'''Q.21=How can you use slicing to create a copy of a list?'''\n",
        "my_list[:]"
      ]
    },
    {
      "cell_type": "code",
      "execution_count": 39,
      "metadata": {
        "colab": {
          "base_uri": "https://localhost:8080/"
        },
        "id": "7KH5-lloz8N9",
        "outputId": "30056fdb-415d-4fa9-ef6b-344197f8ff30"
      },
      "outputs": [
        {
          "data": {
            "text/plain": [
              "[1, 4]"
            ]
          },
          "execution_count": 39,
          "metadata": {},
          "output_type": "execute_result"
        }
      ],
      "source": [
        "'''Q.22=What is the result of my_list[::3] for my_list = [1, 2, 3, 4, 5, 6]?'''\n",
        "my_list = [1, 2, 3, 4, 5, 6]\n",
        "my_list[::3]\n"
      ]
    },
    {
      "cell_type": "code",
      "execution_count": 40,
      "metadata": {
        "colab": {
          "base_uri": "https://localhost:8080/"
        },
        "id": "i3YV1f2M0IcV",
        "outputId": "15d54842-cf39-4f37-e1be-81f1812afd77"
      },
      "outputs": [
        {
          "data": {
            "text/plain": [
              "[2, 3, 4, 5]"
            ]
          },
          "execution_count": 40,
          "metadata": {},
          "output_type": "execute_result"
        }
      ],
      "source": [
        "'''Q.23=How can you use slicing to remove the first and last elements of a list?'''\n",
        "my_list[1:-1]"
      ]
    },
    {
      "cell_type": "code",
      "execution_count": 41,
      "metadata": {
        "colab": {
          "base_uri": "https://localhost:8080/"
        },
        "id": "TP43DSin0mHU",
        "outputId": "5887d55a-761b-4661-efac-8f48fad36e39"
      },
      "outputs": [
        {
          "data": {
            "text/plain": [
              "[20, 30, 40]"
            ]
          },
          "execution_count": 41,
          "metadata": {},
          "output_type": "execute_result"
        }
      ],
      "source": [
        "'''Q.24=What is the result of my_list[1:-1] if my_list = [10, 20, 30, 40, 50]?'''\n",
        "my_list = [10, 20, 30, 40, 50]\n",
        "my_list[1:-1]\n"
      ]
    },
    {
      "cell_type": "code",
      "execution_count": 42,
      "metadata": {
        "colab": {
          "base_uri": "https://localhost:8080/"
        },
        "id": "SlwSTi1R03fU",
        "outputId": "213b43d4-685b-4b63-9a2f-228f9f50d99b"
      },
      "outputs": [
        {
          "data": {
            "text/plain": [
              "[]"
            ]
          },
          "execution_count": 42,
          "metadata": {},
          "output_type": "execute_result"
        }
      ],
      "source": [
        "'''Q.25=How can you check if a list is empty using slicing?'''\n",
        "list3=[1,2,3,4,5,6,7,8,9]\n",
        "list3[8:2:1]"
      ]
    },
    {
      "cell_type": "code",
      "execution_count": 43,
      "metadata": {
        "colab": {
          "base_uri": "https://localhost:8080/"
        },
        "id": "UV1oMjHN1OAJ",
        "outputId": "af2e159a-da4d-4a55-89b7-2503ae382b7e"
      },
      "outputs": [
        {
          "data": {
            "text/plain": [
              "[2, 3, 4]"
            ]
          },
          "execution_count": 43,
          "metadata": {},
          "output_type": "execute_result"
        }
      ],
      "source": [
        "'''Q.26=What does my_list[2:-2] return for my_list = [0, 1, 2, 3, 4, 5, 6]?'''\n",
        "my_list = [0, 1, 2, 3, 4, 5, 6]\n",
        "my_list[2:-2]\n"
      ]
    },
    {
      "cell_type": "code",
      "execution_count": 44,
      "metadata": {
        "colab": {
          "base_uri": "https://localhost:8080/"
        },
        "id": "_w5y4deG1cuB",
        "outputId": "3f6645ed-c2f4-4649-f4a7-719bba3b6547"
      },
      "outputs": [
        {
          "data": {
            "text/plain": [
              "[0, 1, 2, 3, 4, 5, 6]"
            ]
          },
          "execution_count": 44,
          "metadata": {},
          "output_type": "execute_result"
        }
      ],
      "source": [
        "'''Q.28=What is the result of my_list[::]?'''\n",
        "my_list[::]"
      ]
    },
    {
      "cell_type": "code",
      "execution_count": 45,
      "metadata": {
        "id": "6UolSeBw2mbH"
      },
      "outputs": [],
      "source": [
        "'''Q.29=How do you use slicing to obtain a specific part of a list from a specific start and end index?\n",
        "ans=by using syntax of slicing=> [start:end:stepsize]'''\n"
      ]
    },
    {
      "cell_type": "code",
      "execution_count": 47,
      "metadata": {
        "colab": {
          "base_uri": "https://localhost:8080/"
        },
        "id": "rAlR90xK3YOi",
        "outputId": "56a5efe5-f742-4b29-b4b1-c842b21ca6d9"
      },
      "outputs": [
        {
          "name": "stdout",
          "output_type": "stream",
          "text": [
            "[0, 1, 2, 6, 7, 8]\n"
          ]
        }
      ],
      "source": [
        "'''Q.30= How can you combine slices to extract different non-contiguous parts of a list?'''\n",
        "my_list=[0,1,2,3,4,5,6,7,8,9]\n",
        "part1=my_list[0:3]\n",
        "part2=my_list[6:9]\n",
        "result=part1+part2\n",
        "print(result)"
      ]
    },
    {
      "cell_type": "code",
      "execution_count": null,
      "metadata": {
        "id": "Dj9V3O3U4N8H"
      },
      "outputs": [],
      "source": []
    }
  ],
  "metadata": {
    "colab": {
      "provenance": []
    },
    "kernelspec": {
      "display_name": "Python 3",
      "name": "python3"
    },
    "language_info": {
      "name": "python"
    }
  },
  "nbformat": 4,
  "nbformat_minor": 0
}
