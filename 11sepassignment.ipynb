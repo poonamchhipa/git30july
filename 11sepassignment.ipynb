{
  "cells": [
    {
      "cell_type": "code",
      "execution_count": null,
      "metadata": {
        "colab": {
          "base_uri": "https://localhost:8080/"
        },
        "id": "_t7m1hkfha4Q",
        "outputId": "05ac863e-759a-4467-91d2-18a3d87f570c"
      },
      "outputs": [
        {
          "name": "stdout",
          "output_type": "stream",
          "text": [
            "jaipur is a pink city\n"
          ]
        }
      ],
      "source": [
        "#operators and list methods assignment questions=>\n",
        "\n",
        "'''Q.1=What does the + operator do when used with two lists?\n",
        "ans= + operator use when we are required to add one or more string\n",
        "'''\n",
        "print('jaipur is a '+'pink city')"
      ]
    },
    {
      "cell_type": "code",
      "execution_count": null,
      "metadata": {
        "colab": {
          "base_uri": "https://localhost:8080/"
        },
        "id": "CoyMStFGioVW",
        "outputId": "277be376-ed73-4dae-af6d-960686dd8ebf"
      },
      "outputs": [
        {
          "data": {
            "text/plain": [
              "4"
            ]
          },
          "execution_count": 4,
          "metadata": {},
          "output_type": "execute_result"
        }
      ],
      "source": [
        "'''Q.2=How can you find the length of a tuple?\n",
        "ans= by using len() function '''\n",
        "tuple=(1,2,3,4)\n",
        "len(tuple)"
      ]
    },
    {
      "cell_type": "code",
      "execution_count": null,
      "metadata": {
        "colab": {
          "base_uri": "https://localhost:8080/"
        },
        "id": "Fx6_MtwyjZNl",
        "outputId": "4ae9bfe5-ef3a-43dc-e8aa-05c7c1a29eba"
      },
      "outputs": [
        {
          "name": "stdout",
          "output_type": "stream",
          "text": [
            "[0, 2, 4, 6, 8]\n"
          ]
        }
      ],
      "source": [
        "'''Q.4=How do you add an element to the end of a list?\n",
        "ans= by using append'''\n",
        "li=[0,2,4,6]\n",
        "li.append(8)\n",
        "print(li)"
      ]
    },
    {
      "cell_type": "code",
      "execution_count": null,
      "metadata": {
        "colab": {
          "base_uri": "https://localhost:8080/"
        },
        "id": "SKlNAWv6kVon",
        "outputId": "452aac90-87d6-4b3a-d09e-04bc606e719d"
      },
      "outputs": [
        {
          "name": "stdout",
          "output_type": "stream",
          "text": [
            "[0, 2, 4, 6, 8, 0, 2, 4, 6, 8]\n"
          ]
        }
      ],
      "source": [
        "'''Q.3=What does the * operator do when used with a list?\n",
        "ans=for list multiplication'''\n",
        "li=li*2\n",
        "print(li)"
      ]
    },
    {
      "cell_type": "code",
      "execution_count": null,
      "metadata": {
        "colab": {
          "base_uri": "https://localhost:8080/"
        },
        "id": "EtTEfTSHlRlV",
        "outputId": "edd5981e-55b1-45d7-a06e-d1616978784b"
      },
      "outputs": [
        {
          "name": "stdout",
          "output_type": "stream",
          "text": [
            "[0, 2, 4, 6, 0, 2, 4, 6, 8]\n"
          ]
        }
      ],
      "source": [
        "'''Q.5=What method can you use to remove an element from a list by its value?\n",
        "ans='''\n",
        "li.remove(8)\n",
        "print(li)"
      ]
    },
    {
      "cell_type": "code",
      "execution_count": null,
      "metadata": {
        "colab": {
          "base_uri": "https://localhost:8080/"
        },
        "id": "mmgBwR5Wlqtb",
        "outputId": "c7cd5902-c4ab-4e20-9e6d-e3889cf705d9"
      },
      "outputs": [
        {
          "name": "stdout",
          "output_type": "stream",
          "text": [
            "15\n"
          ]
        }
      ],
      "source": [
        "'''Q.6=How do you access the third element of a tuple?'''\n",
        "tup=(5,10,15,25)\n",
        "print(tup[2])"
      ]
    },
    {
      "cell_type": "code",
      "execution_count": null,
      "metadata": {
        "colab": {
          "base_uri": "https://localhost:8080/"
        },
        "id": "nwRSMbwemaa2",
        "outputId": "a2a26bf1-eb09-4e86-d1cf-9b35ef648153"
      },
      "outputs": [
        {
          "name": "stdout",
          "output_type": "stream",
          "text": [
            "[0, 0, 2, 2, 4, 4, 6, 6, 8]\n"
          ]
        }
      ],
      "source": [
        "'''Q.7=What method can you use to sort a list in ascending order?\n",
        "ans='''\n",
        "li.sort()\n",
        "print(li)"
      ]
    },
    {
      "cell_type": "code",
      "execution_count": null,
      "metadata": {
        "colab": {
          "base_uri": "https://localhost:8080/"
        },
        "id": "bxwjgpvKnRif",
        "outputId": "20b342fe-edd2-44b5-c6d5-815293a544ae"
      },
      "outputs": [
        {
          "name": "stdout",
          "output_type": "stream",
          "text": [
            "True\n"
          ]
        }
      ],
      "source": [
        "'''Q.8=How can you check if a specific item exists in a tuple?\n",
        "ans='''\n",
        "print(2 in li)"
      ]
    },
    {
      "cell_type": "code",
      "execution_count": null,
      "metadata": {
        "colab": {
          "base_uri": "https://localhost:8080/"
        },
        "id": "OjhaPT0snywF",
        "outputId": "1791e319-244a-488d-9c6a-5690f927b7da"
      },
      "outputs": [
        {
          "name": "stdout",
          "output_type": "stream",
          "text": [
            "[]\n"
          ]
        }
      ],
      "source": [
        "'''Q.9=What method would you use to remove all occurrences of a specific item from a list?\n",
        "ans='''\n",
        "li.clear()\n",
        "print(li)"
      ]
    },
    {
      "cell_type": "code",
      "execution_count": null,
      "metadata": {
        "colab": {
          "base_uri": "https://localhost:8080/"
        },
        "id": "5O2pGr9fn9YJ",
        "outputId": "669a6f7a-fc20-4932-aea0-a04e2814ef4f"
      },
      "outputs": [
        {
          "name": "stdout",
          "output_type": "stream",
          "text": [
            "(1, 2, 3, 4, 5, 6)\n"
          ]
        }
      ],
      "source": [
        "'''Q.10=How can you concatenate two tuples?'''\n",
        "tup1=(1,2,3)\n",
        "tup2=(4,5,6)\n",
        "tup3=tup1+tup2\n",
        "print(tup3)"
      ]
    },
    {
      "cell_type": "code",
      "execution_count": null,
      "metadata": {
        "colab": {
          "base_uri": "https://localhost:8080/"
        },
        "id": "Ob-LRE0XoXIn",
        "outputId": "3e669d47-8a00-49dc-e612-a69f8401a95c"
      },
      "outputs": [
        {
          "data": {
            "text/plain": [
              "3"
            ]
          },
          "execution_count": 20,
          "metadata": {},
          "output_type": "execute_result"
        }
      ],
      "source": [
        "'''Q.11=What method can you use to get the index of a specific item in a list?\n",
        "'''\n",
        "li=[4,8,12,True,'hello']\n",
        "li.index(True)"
      ]
    },
    {
      "cell_type": "code",
      "execution_count": null,
      "metadata": {
        "colab": {
          "base_uri": "https://localhost:8080/"
        },
        "id": "D5ylnrBYorhg",
        "outputId": "61518c04-fcc9-4b9e-db02-0dd5f73d26fc"
      },
      "outputs": [
        {
          "name": "stdout",
          "output_type": "stream",
          "text": [
            "(1,)\n"
          ]
        }
      ],
      "source": [
        "'''Q.12=How do you create a tuple with a single element?'''\n",
        "tup4=(1,)\n",
        "print(tup4)"
      ]
    },
    {
      "cell_type": "code",
      "execution_count": null,
      "metadata": {
        "colab": {
          "base_uri": "https://localhost:8080/"
        },
        "id": "sw992Dzpo-g6",
        "outputId": "9982972b-6a83-4653-f8ab-c515e7a8a242"
      },
      "outputs": [
        {
          "name": "stdout",
          "output_type": "stream",
          "text": [
            "['hello', True, 12, 8, 4]\n"
          ]
        }
      ],
      "source": [
        "'''Q.13=How can you reverse the elements of a list?'''\n",
        "li.reverse()\n",
        "print(li)"
      ]
    },
    {
      "cell_type": "code",
      "execution_count": null,
      "metadata": {
        "colab": {
          "base_uri": "https://localhost:8080/"
        },
        "id": "w6F8ymm2pWKt",
        "outputId": "f1f94b42-a24d-4059-ac10-46abc4d840b4"
      },
      "outputs": [
        {
          "name": "stdout",
          "output_type": "stream",
          "text": [
            "True\n"
          ]
        }
      ],
      "source": [
        "'''Q.14=What does the in operator do when used with a list or tuple?\n",
        "ans= check whether this element exists in this list or not'''\n",
        "print(12 in li)\n"
      ]
    },
    {
      "cell_type": "code",
      "execution_count": null,
      "metadata": {
        "colab": {
          "base_uri": "https://localhost:8080/"
        },
        "id": "Vat_KlncpuCu",
        "outputId": "fd5f1c6c-2b47-45be-faee-ad5b5695cc61"
      },
      "outputs": [
        {
          "data": {
            "text/plain": [
              "1"
            ]
          },
          "execution_count": 27,
          "metadata": {},
          "output_type": "execute_result"
        }
      ],
      "source": [
        "'''Q.15=How do you find the number of occurrences of a specific element in a list?\n",
        "ans= by using count'''\n",
        "li.count(4)\n"
      ]
    },
    {
      "cell_type": "code",
      "execution_count": null,
      "metadata": {
        "colab": {
          "base_uri": "https://localhost:8080/"
        },
        "id": "_jEQiUaGqEqA",
        "outputId": "d05ae027-addb-4718-954a-315ad70a727c"
      },
      "outputs": [
        {
          "data": {
            "text/plain": [
              "(5, 6, 7)"
            ]
          },
          "execution_count": 31,
          "metadata": {},
          "output_type": "execute_result"
        }
      ],
      "source": [
        "'''Q.16=How can you slice a list to get the first three elements?\n",
        "ans='''\n",
        "list2=(5,6,7,8,9)\n",
        "list2[0:3:1]"
      ]
    },
    {
      "cell_type": "code",
      "execution_count": null,
      "metadata": {
        "colab": {
          "base_uri": "https://localhost:8080/",
          "height": 52
        },
        "id": "_FqPSzOFq3vj",
        "outputId": "4396cc65-057b-4487-c944-05179e624cde"
      },
      "outputs": [
        {
          "data": {
            "application/vnd.google.colaboratory.intrinsic+json": {
              "type": "string"
            },
            "text/plain": [
              "'Q.17=What is the difference between the append and extend methods for a list?\\nans=append is used to add a single element at the end of the list\\nextend is used to add multiple items or a new list to the\\xa0existing\\xa0list.'"
            ]
          },
          "execution_count": 41,
          "metadata": {},
          "output_type": "execute_result"
        }
      ],
      "source": [
        "#Q.17=What is the difference between the append and extend methods for a list?\n",
        "#ans=append is used to add a single element at the end of the list\n",
        "#extend is used to add multiple items or a new list to the existing list.\n"
      ]
    },
    {
      "cell_type": "code",
      "execution_count": null,
      "metadata": {
        "colab": {
          "base_uri": "https://localhost:8080/"
        },
        "id": "BzjPHHfVrdRV",
        "outputId": "2bca2757-9309-4f27-c60e-d3dd3c851659"
      },
      "outputs": [
        {
          "name": "stdout",
          "output_type": "stream",
          "text": [
            "[(1, 2), (3, 4), (8, 9)]\n"
          ]
        }
      ],
      "source": [
        "'''Q.18=How can you create a list of tuples where each tuple contains two elements?\n",
        "ans='''\n",
        "tup5=(1,2)\n",
        "tup6=(3,4)\n",
        "tup7=(8,9)\n",
        "list3=[tup5,tup6,tup7]\n",
        "print(list3)"
      ]
    },
    {
      "cell_type": "code",
      "execution_count": null,
      "metadata": {
        "id": "uPQlBQXZr_HH"
      },
      "outputs": [],
      "source": [
        "#Q.19=What method can you use to remove an element from a tuple (since tuples are immutable)?\n",
        "#ans=you cannot change,add,or remove elements in tuple,but you can perform other operations that do not modify the original tuple\n"
      ]
    },
    {
      "cell_type": "code",
      "execution_count": null,
      "metadata": {
        "colab": {
          "base_uri": "https://localhost:8080/"
        },
        "id": "Ni_A2xAusy8N",
        "outputId": "f2001fb3-f7f2-4ce9-fa34-6dc8cb0fbf54"
      },
      "outputs": [
        {
          "name": "stdout",
          "output_type": "stream",
          "text": [
            "[['mahak', 'pooja', 'mohit']]\n"
          ]
        }
      ],
      "source": [
        "'''Q.20=How do you join a list of strings into a single string with spaces in between?'''\n",
        "lis1=['mahak']\n",
        "lis2=['pooja']\n",
        "lis3=['mohit']\n",
        "lis4=[lis1+lis2+lis3]\n",
        "print(lis4)"
      ]
    },
    {
      "cell_type": "code",
      "execution_count": null,
      "metadata": {
        "id": "UQeSZcmztreE"
      },
      "outputs": [],
      "source": [
        "#if-else conditions"
      ]
    },
    {
      "cell_type": "code",
      "execution_count": null,
      "metadata": {
        "id": "kacyHzTSuIeT"
      },
      "outputs": [],
      "source": [
        "'''Q.1=What is the syntax for an if statement in Python?\n",
        "ans=\n",
        "if(condition):\n",
        "  #code_to_run\n",
        "elif(condition):\n",
        "  #code_to_run\n",
        "else:\n",
        "  #code_to_run\n",
        "  '''\n"
      ]
    },
    {
      "cell_type": "code",
      "execution_count": null,
      "metadata": {
        "colab": {
          "base_uri": "https://localhost:8080/"
        },
        "id": "rFsXvOmzuvrV",
        "outputId": "bc710748-b974-429a-aaca-a78b11e63161"
      },
      "outputs": [
        {
          "name": "stdout",
          "output_type": "stream",
          "text": [
            "positive number\n"
          ]
        }
      ],
      "source": [
        "'''Q.2=How do you write an if-else statement to check if a number is positive or negative?'''\n",
        "a=2\n",
        "if(a>0):\n",
        "  print('positive number')\n",
        "elif(a<0):\n",
        "  print('negative number')\n",
        "else:\n",
        "  print('zero')"
      ]
    },
    {
      "cell_type": "code",
      "execution_count": null,
      "metadata": {
        "id": "TYUM2RjwvYCh"
      },
      "outputs": [],
      "source": [
        "'''Q.3=What is the purpose of the elif keyword?\n",
        "ans=use for multiple conditions'''"
      ]
    },
    {
      "cell_type": "code",
      "execution_count": null,
      "metadata": {
        "colab": {
          "base_uri": "https://localhost:8080/"
        },
        "id": "d-kIvah7vgoj",
        "outputId": "aff59d7b-6c11-4bbd-c0b3-e63df1b1aee2"
      },
      "outputs": [
        {
          "name": "stdout",
          "output_type": "stream",
          "text": [
            "enter your number15\n",
            "true\n"
          ]
        }
      ],
      "source": [
        "'''Q.4=How do you check if a variable x is between 10 and 20 (inclusive)?'''\n",
        "num=int(input('enter your number'))\n",
        "if('x is between 10 and 20'):\n",
        "  print('true')\n",
        "else:\n",
        "  print('false')\n"
      ]
    },
    {
      "cell_type": "code",
      "execution_count": null,
      "metadata": {
        "id": "1HtKtUtRwaaa"
      },
      "outputs": [],
      "source": [
        "'''Q.5=What is the result of an if statement when the condition is False?\n",
        "ans= it will move to the elif block'''"
      ]
    },
    {
      "cell_type": "code",
      "execution_count": null,
      "metadata": {
        "colab": {
          "base_uri": "https://localhost:8080/"
        },
        "id": "C9ntcGBEw_MH",
        "outputId": "5d7a1b5e-6b5e-474b-a35a-01260510d0ca"
      },
      "outputs": [
        {
          "name": "stdout",
          "output_type": "stream",
          "text": [
            "enter your marks55\n",
            "enter your marks80\n",
            "enter your marks70\n",
            "68.33333333333333\n",
            "B garde\n"
          ]
        }
      ],
      "source": [
        "'''Q.6=How can you combine multiple conditions in a single if statement using and?\n",
        "'''\n",
        "maths=int(input(\"enter your marks\"))\n",
        "english=int(input(\"enter your marks\"))\n",
        "science=int(input(\"enter your marks\"))\n",
        "average=maths+english+science\n",
        "percent=(average/300)*100\n",
        "print(percent)\n",
        "if(percent>80 and percent<=100):\n",
        "    print(\"A grade\")\n",
        "elif(percent>60 and percent<=80):\n",
        "    print(\"B garde\")\n",
        "elif(percent>50 and percent<=60):\n",
        "    print(\"C grade\")\n",
        "elif(percent>45 and percent<=50):\n",
        "    print(\"D grade\")\n",
        "elif(percent>25 and percent<=45):\n",
        "    print(\"E grade\")\n",
        "elif(percent<25):\n",
        "    print(\"F garde\")\n",
        "else:\n",
        "    print(\"input is not valid\")\n"
      ]
    },
    {
      "cell_type": "code",
      "execution_count": null,
      "metadata": {
        "id": "8Vq0MJgtxpzJ"
      },
      "outputs": [],
      "source": [
        "'''Q.7=What will be the output of an if-else statement if the condition is true?\n",
        "ans= if the condition is true ,the if block code is executed\n",
        "and if the condition is false,the else block code is executed'''"
      ]
    },
    {
      "cell_type": "code",
      "execution_count": null,
      "metadata": {
        "colab": {
          "base_uri": "https://localhost:8080/"
        },
        "id": "3Yda4ZjKyYWx",
        "outputId": "85cc9686-c2ce-4f6c-9df1-64c0e07ae18e"
      },
      "outputs": [
        {
          "name": "stdout",
          "output_type": "stream",
          "text": [
            "enter a number5\n",
            "false\n"
          ]
        }
      ],
      "source": [
        "'''Q.8=How do you use the or operator to check if at least one of two conditions is true?'''\n",
        "num=int(input('enter a number'))\n",
        "if(num%2==0 or num%3==0):\n",
        "  print('true')\n",
        "else:\n",
        "  print('false')"
      ]
    },
    {
      "cell_type": "code",
      "execution_count": null,
      "metadata": {
        "id": "U9j2e_9yzcNW"
      },
      "outputs": [],
      "source": [
        "'''Q.9=What is the difference between == and is in conditional statements?\n",
        "ans=\n",
        "(==)indicates equal sign\n",
        "(is)indicate location'''"
      ]
    },
    {
      "cell_type": "code",
      "execution_count": null,
      "metadata": {
        "colab": {
          "base_uri": "https://localhost:8080/"
        },
        "id": "B_Balw9azxAO",
        "outputId": "ce69e0e2-88c2-45cf-ebba-bb6d923a66e3"
      },
      "outputs": [
        {
          "data": {
            "text/plain": [
              "False"
            ]
          },
          "execution_count": 57,
          "metadata": {},
          "output_type": "execute_result"
        }
      ],
      "source": [
        "'''Q.10=How can you check if a string s is empty?'''\n",
        "s=''\n",
        "bool(s)\n",
        "#false means string is empty"
      ]
    },
    {
      "cell_type": "code",
      "execution_count": null,
      "metadata": {
        "colab": {
          "base_uri": "https://localhost:8080/"
        },
        "id": "buNsx-YJ0Gat",
        "outputId": "e99944c2-581a-48bc-c7c9-ff21c8e29ca3"
      },
      "outputs": [
        {
          "name": "stdout",
          "output_type": "stream",
          "text": [
            "x>10\n"
          ]
        }
      ],
      "source": [
        "'''Q.11=What is the result of the following condition: if not (x>10)?'''\n",
        "x=2\n",
        "if(not x>10):\n",
        "  print('x>10')\n",
        "else:\n",
        "  print('10 is greater than x')\n"
      ]
    },
    {
      "cell_type": "code",
      "execution_count": null,
      "metadata": {
        "colab": {
          "base_uri": "https://localhost:8080/"
        },
        "id": "UTYWLY4-1VJz",
        "outputId": "911d5aa2-7297-4ddc-b824-7ed096d4b0c9"
      },
      "outputs": [
        {
          "name": "stdout",
          "output_type": "stream",
          "text": [
            "enter a number:5\n",
            "odd\n"
          ]
        }
      ],
      "source": [
        "'''Q.12=How do you write a conditional statement to execute code only if a number is even?'''\n",
        "num=int(input('enter a number:'))\n",
        "if(num%2==0):\n",
        "    print('even')\n",
        "else:\n",
        "  print('odd')"
      ]
    },
    {
      "cell_type": "code",
      "execution_count": null,
      "metadata": {
        "colab": {
          "base_uri": "https://localhost:8080/"
        },
        "id": "RVhFeWRl20JL",
        "outputId": "d3f9da01-c8b7-4274-d330-b7973ba97032"
      },
      "outputs": [
        {
          "name": "stdout",
          "output_type": "stream",
          "text": [
            "empty\n"
          ]
        }
      ],
      "source": [
        "'''Q.13=How can you use an if statement to determine if a list is empty?'''\n",
        "li=[]\n",
        "if(len(li)==0):\n",
        "  print('empty')\n",
        "else:\n",
        "  print('not')"
      ]
    },
    {
      "cell_type": "code",
      "execution_count": null,
      "metadata": {
        "id": "AfANX8Dg34-o"
      },
      "outputs": [],
      "source": [
        "'''Q.14=What does the pass statement do in an if block?\n",
        "ans=nothing is printed but you avoid getting an error when empty code is not\n",
        "allowed. Empty code is not allowed in loops, function definitions, class\n",
        "definitions,\n",
        " or in if statements.'''"
      ]
    },
    {
      "cell_type": "code",
      "execution_count": null,
      "metadata": {
        "colab": {
          "base_uri": "https://localhost:8080/"
        },
        "id": "axK7M_M14VaJ",
        "outputId": "905c651d-0333-41d5-f197-4a010dfda500"
      },
      "outputs": [
        {
          "name": "stdout",
          "output_type": "stream",
          "text": [
            "enter a number:3\n",
            "enter a number:4\n",
            "even\n"
          ]
        }
      ],
      "source": [
        "'''Q.15=How can you nest if statements inside each other?'''\n",
        "num=int(input('enter a number:'))\n",
        "if not (num>10):\n",
        "    num=int(input('enter a number:'))\n",
        "    if(num%2==0):\n",
        "        print(\"even\")\n",
        "    else:\n",
        "        print(\"odd\")\n",
        "elif(num>10):\n",
        "    print('10 is greater than num')\n",
        "else:\n",
        "    print(\"input is not valid\")"
      ]
    },
    {
      "cell_type": "code",
      "execution_count": null,
      "metadata": {
        "id": "ZrxnRtPd52RG"
      },
      "outputs": [],
      "source": [
        "'''Q.16=What will be the result if no conditions in an if-elif-else chain are met?\n",
        "ans= in this case,the program will not execute'''"
      ]
    },
    {
      "cell_type": "code",
      "execution_count": null,
      "metadata": {
        "colab": {
          "base_uri": "https://localhost:8080/"
        },
        "id": "0eJyoMCe6Q4Y",
        "outputId": "1f974ca8-48bd-4102-988e-1ae20377ab67"
      },
      "outputs": [
        {
          "name": "stdout",
          "output_type": "stream",
          "text": [
            "enter a number2\n",
            "not match\n"
          ]
        }
      ],
      "source": [
        "'''Q.17=How do you check if a number is divisible by both 3 and 5 using an if statement?'''\n",
        "num=int(input('enter a number'))\n",
        "if(num%3==0 and num%5==0):\n",
        "  print('divisible by both')\n",
        "else:\n",
        "  print('not match')"
      ]
    },
    {
      "cell_type": "code",
      "execution_count": null,
      "metadata": {
        "colab": {
          "base_uri": "https://localhost:8080/"
        },
        "id": "B-0E2gVN7DPx",
        "outputId": "4fb01e5e-a09e-4b84-991f-eadf03d4d6b3"
      },
      "outputs": [
        {
          "name": "stdout",
          "output_type": "stream",
          "text": [
            "enter a number5\n",
            "x is small\n"
          ]
        }
      ],
      "source": [
        "'''Q.18=What is the result of the following if statement: if x > 5: print(\"x is large\") else: print(\"x is small\")\n",
        "where x is 3?'''\n",
        "x=int(input('enter a number'))\n",
        "if(x>5):\n",
        "  print(\"x is large\")\n",
        "elif(x==3):\n",
        "  print(\"x is 3\")\n",
        "else:\n",
        "  print(\"x is small\")"
      ]
    },
    {
      "cell_type": "code",
      "execution_count": null,
      "metadata": {
        "id": "5KO3Nv_Q791D"
      },
      "outputs": [],
      "source": []
    }
  ],
  "metadata": {
    "colab": {
      "provenance": []
    },
    "kernelspec": {
      "display_name": "Python 3",
      "name": "python3"
    },
    "language_info": {
      "name": "python"
    }
  },
  "nbformat": 4,
  "nbformat_minor": 0
}
